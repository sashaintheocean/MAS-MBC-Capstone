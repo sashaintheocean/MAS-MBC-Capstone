{
 "cells": [
  {
   "cell_type": "markdown",
   "id": "fbd6284b-212d-4084-a695-61e82e604cf4",
   "metadata": {},
   "source": [
    "# Data Filtering Presets and User Submitted Substance Type Filtering"
   ]
  },
  {
   "cell_type": "code",
   "execution_count": 1,
   "id": "b0873ed1-c6cf-470a-8286-42cf6219403b",
   "metadata": {},
   "outputs": [
    {
     "name": "stdout",
     "output_type": "stream",
     "text": [
      "Total contaminations for dataset: 3020\n"
     ]
    }
   ],
   "source": [
    "import pandas as pd \n",
    "\n",
    "dataset = pd.read_csv('2024.csv')\n",
    "print(f\"Total contaminations for dataset: {len(dataset)}\")"
   ]
  },
  {
   "cell_type": "markdown",
   "id": "26ca1a63-3550-4a04-b943-57682939ec9a",
   "metadata": {},
   "source": [
    "**⭐ Normalize the 'Substance Unit' column to lowercase and strip whitespace, count 'gallons' verses all other measurement units, and print the results**"
   ]
  },
  {
   "cell_type": "code",
   "execution_count": 2,
   "id": "bb4c8e3e-a5ab-4821-8fb3-2db6aeed6f1b",
   "metadata": {},
   "outputs": [
    {
     "name": "stdout",
     "output_type": "stream",
     "text": [
      "Number of spills using gallons as substance unit: 2939\n",
      "Number of spills using other units (ie pounds) as substance unit: 81 \n",
      "\n"
     ]
    }
   ],
   "source": [
    "unit_col = dataset['Substance Unit'].astype(str).str.lower().str.strip()\n",
    "\n",
    "gallon_count = (unit_col == 'gallons').sum()\n",
    "other_count = (unit_col != 'gallons').sum()\n",
    "\n",
    "print(f\"Number of spills using gallons as substance unit: {gallon_count}\")\n",
    "print(f\"Number of spills using other units (ie pounds) as substance unit: {other_count} \\n\")"
   ]
  },
  {
   "cell_type": "markdown",
   "id": "bcfdd764-88ca-4137-bc9e-2658e24be091",
   "metadata": {},
   "source": [
    "**⭐ See how many items in the dataset are missing critical location inputs**"
   ]
  },
  {
   "cell_type": "code",
   "execution_count": 3,
   "id": "45bf330f-38c0-4aee-b031-1be9bc028652",
   "metadata": {},
   "outputs": [
    {
     "name": "stdout",
     "output_type": "stream",
     "text": [
      "Rows with missing Latitude or Longitude in dataset: 1056 \n",
      "\n"
     ]
    }
   ],
   "source": [
    "missing_count = dataset['Latitude'].isna() | dataset['Longitude'].isna()\n",
    "print(f\"Rows with missing Latitude or Longitude in dataset: {missing_count.sum()} \\n\")"
   ]
  },
  {
   "cell_type": "markdown",
   "id": "249ba070-07a1-4154-9f26-ac95d489122c",
   "metadata": {},
   "source": [
    "**⭐ Calculate the sum of all gallons released in the dataset as well as the average number of gallons released per contamination. Only gallons are considered, not pounds or null measurements**"
   ]
  },
  {
   "cell_type": "code",
   "execution_count": 4,
   "id": "40166437-7740-4584-b460-7e8ea36cb9d7",
   "metadata": {},
   "outputs": [
    {
     "name": "stdout",
     "output_type": "stream",
     "text": [
      "Total gallons released in data: 518784.57899999997\n",
      "Average gallons released per event in dataset: 176.51737972099352 \n",
      "\n"
     ]
    }
   ],
   "source": [
    "#filter rows where 'substance unit' is gallons\n",
    "gallons_dataset = dataset[dataset['Substance Unit'].str.lower().str.strip() == 'gallons']\n",
    "total_gallons = gallons_dataset['Quantity Released'].sum()\n",
    "average_gallons = gallons_dataset['Quantity Released'].mean()\n",
    "\n",
    "print(f\"Total gallons released in data: {total_gallons}\")\n",
    "print(f\"Average gallons released per event in dataset: {average_gallons} \\n\")"
   ]
  },
  {
   "cell_type": "markdown",
   "id": "0200633e-bc29-45f1-b19c-e591a4bd58dc",
   "metadata": {},
   "source": [
    "**⭐ Provide information about what types of substances are included in the dataset** "
   ]
  },
  {
   "cell_type": "code",
   "execution_count": 5,
   "id": "cb1f8cfd-d8f2-4e3e-aec6-99ebb53b67b8",
   "metadata": {},
   "outputs": [
    {
     "name": "stdout",
     "output_type": "stream",
     "text": [
      "Included substance types in dataset: ['Noncrude Oil', 'Hazardous Substance', 'Unknown', 'Process Water', 'Crude Oil', 'Extremely Hazardous Substance', nan]\n"
     ]
    }
   ],
   "source": [
    "print(f\"Included substance types in dataset: {dataset['Substance Type'].unique().tolist()}\")"
   ]
  },
  {
   "cell_type": "markdown",
   "id": "0cbae64a-6ba3-492e-acd0-99c787bb0663",
   "metadata": {},
   "source": [
    "**⭐ Functionality to allow a user to change the dataset to only account for a given substance**"
   ]
  },
  {
   "cell_type": "code",
   "execution_count": 6,
   "id": "d748484f-1680-4f75-b4b4-92118737841d",
   "metadata": {},
   "outputs": [
    {
     "name": "stdout",
     "output_type": "stream",
     "text": [
      "Would you like to filter on a specific substance type? Options are: \n",
      "\n",
      "Noncrude Oil,\n",
      "Hazardous Substance,\n",
      "Unknown,\n",
      "Process Water,\n",
      "Crude Oil,\n",
      "Extremely Hazardous Substance\n",
      "\n",
      "Click enter to not use any filter!\n"
     ]
    },
    {
     "name": "stdin",
     "output_type": "stream",
     "text": [
      "Substance: \n"
     ]
    },
    {
     "name": "stdout",
     "output_type": "stream",
     "text": [
      "Got it! I'll search using all substance types.\n"
     ]
    }
   ],
   "source": [
    "substance_counts = dataset['Substance Type'].value_counts()\n",
    "valid_substances = list(substance_counts.index)\n",
    "substances = dataset['Substance Type'].dropna().unique()\n",
    "clean_list = \",\\n\".join(substances)\n",
    "\n",
    "filtered_substance_dataset=[]\n",
    "\n",
    "print(f\"Would you like to filter on a specific substance type? Options are: \\n\\n{clean_list}\\n\")\n",
    "\n",
    "while True:\n",
    "    print(\"Click enter to not use any filter!\")\n",
    "    user_input = input('Substance:')\n",
    "    \n",
    "    if user_input == \"\":\n",
    "        print(\"Got it! I'll search using all substance types.\")\n",
    "        break\n",
    "        \n",
    "    elif user_input in valid_substances:\n",
    "        filtered_count = (dataset['Substance Type'] == user_input).sum()\n",
    "        print(f\"Awesome! I'll filter the dataset using '{user_input}'. We'll be searching across {filtered_count} contaminations.\")\n",
    "        break\n",
    "        \n",
    "    else:\n",
    "        print(\"Sorry, that input isn’t in the list. Please choose one of the options above exactly as written.\")\n",
    "\n",
    "if user_input:\n",
    "    filtered_substance_dataset = dataset[dataset['Substance Type'] == user_input]  \n",
    "    dataset=filtered_substance_dataset"
   ]
  },
  {
   "cell_type": "markdown",
   "id": "c044a845-8fc9-4abc-8d69-605e1ef10609",
   "metadata": {},
   "source": [
    "**⭐ Filter out dataset to only include contaminations that occured in the ocean**"
   ]
  },
  {
   "cell_type": "code",
   "execution_count": 7,
   "id": "101c9585-a2b9-4ada-a93e-f756643f7669",
   "metadata": {},
   "outputs": [],
   "source": [
    "from global_land_mask import globe\n",
    "\n",
    "def get_ocean_rows(dataframe):\n",
    "    ocean_rows = []\n",
    "    for _, row in dataframe.iterrows():\n",
    "        if pd.isna(row['Latitude']) or pd.isna(row['Longitude']):\n",
    "            continue\n",
    "        if not (-90 <= row['Latitude'] <= 90 and -180 <= row['Longitude'] <= 180):\n",
    "            continue\n",
    "        status = globe.is_land(row['Latitude'], row['Longitude'])\n",
    "        if status == False:\n",
    "            ocean_rows.append(row)\n",
    "    ocean_df = pd.DataFrame(ocean_rows)\n",
    "    print(f\"There are {len(ocean_df)} reported ocean contaminations in your dataset\")\n",
    "    return ocean_df"
   ]
  },
  {
   "cell_type": "code",
   "execution_count": 8,
   "id": "5ae95dab-a594-463d-ad42-f6528e4c36df",
   "metadata": {},
   "outputs": [
    {
     "name": "stdout",
     "output_type": "stream",
     "text": [
      "There are 237 reported ocean contaminations in your dataset\n",
      "Stored 'ocean_df' (DataFrame)\n"
     ]
    }
   ],
   "source": [
    "ocean_df = get_ocean_rows(dataset)\n",
    "#store the ocean dataframe so we can access it in other notebooks\n",
    "%store ocean_df"
   ]
  },
  {
   "cell_type": "code",
   "execution_count": null,
   "id": "c0d7cb7d-c595-41c8-a22d-a921d4d8fd6d",
   "metadata": {},
   "outputs": [],
   "source": []
  }
 ],
 "metadata": {
  "kernelspec": {
   "display_name": "Python 3 (ipykernel)",
   "language": "python",
   "name": "python3"
  },
  "language_info": {
   "codemirror_mode": {
    "name": "ipython",
    "version": 3
   },
   "file_extension": ".py",
   "mimetype": "text/x-python",
   "name": "python",
   "nbconvert_exporter": "python",
   "pygments_lexer": "ipython3",
   "version": "3.13.3"
  }
 },
 "nbformat": 4,
 "nbformat_minor": 5
}
